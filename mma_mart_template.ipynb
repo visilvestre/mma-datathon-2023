{
 "cells": [
  {
   "cell_type": "markdown",
   "metadata": {
    "id": "HWw3f-m305QR"
   },
   "source": [
    "This notebook demonstrates a simple workflow to tackle the MM&M Supermarket case."
   ]
  },
  {
   "cell_type": "code",
   "execution_count": 1,
   "metadata": {
    "id": "v4qJPqOO0qnr"
   },
   "outputs": [],
   "source": [
    "# load python packages for data processing and analysis\n",
    "import pandas as pd"
   ]
  },
  {
   "cell_type": "markdown",
   "metadata": {
    "id": "t-7mOrtP1Ylj"
   },
   "source": [
    "# 1 A quick look at the data"
   ]
  },
  {
   "cell_type": "code",
   "execution_count": 3,
   "metadata": {
    "id": "P4G5QvVU1XiK"
   },
   "outputs": [],
   "source": [
    "# load the data\n",
    "mma_mart = pd.read_csv('data/mma_mart.csv')"
   ]
  },
  {
   "cell_type": "code",
   "execution_count": 4,
   "metadata": {
    "colab": {
     "base_uri": "https://localhost:8080/",
     "height": 241
    },
    "id": "P4TI2el-1N0R",
    "outputId": "6fe6caf0-62ad-4fdb-bbde-e5c29a89a00d"
   },
   "outputs": [
    {
     "data": {
      "text/html": [
       "<div>\n",
       "<style scoped>\n",
       "    .dataframe tbody tr th:only-of-type {\n",
       "        vertical-align: middle;\n",
       "    }\n",
       "\n",
       "    .dataframe tbody tr th {\n",
       "        vertical-align: top;\n",
       "    }\n",
       "\n",
       "    .dataframe thead th {\n",
       "        text-align: right;\n",
       "    }\n",
       "</style>\n",
       "<table border=\"1\" class=\"dataframe\">\n",
       "  <thead>\n",
       "    <tr style=\"text-align: right;\">\n",
       "      <th></th>\n",
       "      <th>order_id</th>\n",
       "      <th>product_id</th>\n",
       "      <th>product_name</th>\n",
       "      <th>aisle_id</th>\n",
       "      <th>aisle</th>\n",
       "      <th>department_id</th>\n",
       "      <th>department</th>\n",
       "    </tr>\n",
       "  </thead>\n",
       "  <tbody>\n",
       "    <tr>\n",
       "      <th>0</th>\n",
       "      <td>1</td>\n",
       "      <td>49302</td>\n",
       "      <td>Bulgarian Yogurt</td>\n",
       "      <td>120</td>\n",
       "      <td>yogurt</td>\n",
       "      <td>16</td>\n",
       "      <td>dairy eggs</td>\n",
       "    </tr>\n",
       "    <tr>\n",
       "      <th>1</th>\n",
       "      <td>1</td>\n",
       "      <td>11109</td>\n",
       "      <td>Organic 4% Milk Fat Whole Milk Cottage Cheese</td>\n",
       "      <td>108</td>\n",
       "      <td>other creams cheeses</td>\n",
       "      <td>16</td>\n",
       "      <td>dairy eggs</td>\n",
       "    </tr>\n",
       "    <tr>\n",
       "      <th>2</th>\n",
       "      <td>1</td>\n",
       "      <td>10246</td>\n",
       "      <td>Organic Celery Hearts</td>\n",
       "      <td>83</td>\n",
       "      <td>fresh vegetables</td>\n",
       "      <td>4</td>\n",
       "      <td>produce</td>\n",
       "    </tr>\n",
       "    <tr>\n",
       "      <th>3</th>\n",
       "      <td>1</td>\n",
       "      <td>49683</td>\n",
       "      <td>Cucumber Kirby</td>\n",
       "      <td>83</td>\n",
       "      <td>fresh vegetables</td>\n",
       "      <td>4</td>\n",
       "      <td>produce</td>\n",
       "    </tr>\n",
       "    <tr>\n",
       "      <th>4</th>\n",
       "      <td>1</td>\n",
       "      <td>43633</td>\n",
       "      <td>Lightly Smoked Sardines in Olive Oil</td>\n",
       "      <td>95</td>\n",
       "      <td>canned meat seafood</td>\n",
       "      <td>15</td>\n",
       "      <td>canned goods</td>\n",
       "    </tr>\n",
       "  </tbody>\n",
       "</table>\n",
       "</div>"
      ],
      "text/plain": [
       "   order_id  product_id                                   product_name  \\\n",
       "0         1       49302                               Bulgarian Yogurt   \n",
       "1         1       11109  Organic 4% Milk Fat Whole Milk Cottage Cheese   \n",
       "2         1       10246                          Organic Celery Hearts   \n",
       "3         1       49683                                 Cucumber Kirby   \n",
       "4         1       43633           Lightly Smoked Sardines in Olive Oil   \n",
       "\n",
       "   aisle_id                 aisle  department_id    department  \n",
       "0       120                yogurt             16    dairy eggs  \n",
       "1       108  other creams cheeses             16    dairy eggs  \n",
       "2        83      fresh vegetables              4       produce  \n",
       "3        83      fresh vegetables              4       produce  \n",
       "4        95   canned meat seafood             15  canned goods  "
      ]
     },
     "execution_count": 4,
     "metadata": {},
     "output_type": "execute_result"
    }
   ],
   "source": [
    "mma_mart.head()"
   ]
  },
  {
   "cell_type": "code",
   "execution_count": 5,
   "metadata": {
    "colab": {
     "base_uri": "https://localhost:8080/"
    },
    "id": "8bRw91z12slV",
    "outputId": "e9b43b1b-4714-4958-a089-fd766974712d"
   },
   "outputs": [
    {
     "data": {
      "text/plain": [
       "(987259, 7)"
      ]
     },
     "execution_count": 5,
     "metadata": {},
     "output_type": "execute_result"
    }
   ],
   "source": [
    "mma_mart.shape"
   ]
  },
  {
   "cell_type": "code",
   "execution_count": 6,
   "metadata": {
    "colab": {
     "base_uri": "https://localhost:8080/"
    },
    "id": "pY12uFk71on5",
    "outputId": "114ddd63-d0d7-48d2-d250-481c5194ac7e"
   },
   "outputs": [
    {
     "data": {
      "text/plain": [
       "order_id         97833\n",
       "product_id       35070\n",
       "product_name     35070\n",
       "aisle_id           134\n",
       "aisle              134\n",
       "department_id       21\n",
       "department          21\n",
       "dtype: int64"
      ]
     },
     "execution_count": 6,
     "metadata": {},
     "output_type": "execute_result"
    }
   ],
   "source": [
    "mma_mart.nunique()"
   ]
  },
  {
   "cell_type": "markdown",
   "metadata": {
    "id": "y4fc8b1d2a9H"
   },
   "source": [
    "The dataset has about 987K rows. Since we have about 98K unique orders, on average each order contains about 10 products. We have about 35K unique products, and they are from 134 aisles, and 21 departments.\n",
    "\n",
    "You perhaps want to do more exploratory data analysis (EDA), but I will move on to pick 1000 products for the special Instabasket aisle."
   ]
  },
  {
   "cell_type": "markdown",
   "metadata": {
    "id": "ZzOG5yxU33Jh"
   },
   "source": [
    "# 2 Pick 1000 products"
   ]
  },
  {
   "cell_type": "markdown",
   "metadata": {
    "id": "mSRbXPJJ-gqD"
   },
   "source": [
    "I will use a subset of the data to build a model (i.e., to run some analysis) to pick 1000 products. The remaining data will be used to evaluate the model performance (i.e., to calculate the performance metrics)."
   ]
  },
  {
   "cell_type": "code",
   "execution_count": 7,
   "metadata": {
    "id": "faJ8-Qt2-CBh"
   },
   "outputs": [],
   "source": [
    "train = mma_mart[mma_mart['order_id'] <= 80000]\n",
    "test = mma_mart[mma_mart['order_id'] > 80000]"
   ]
  },
  {
   "cell_type": "markdown",
   "metadata": {
    "id": "lHSOT51vAsoc"
   },
   "source": [
    "Note the training data doesn't contain all the possible products. That's OK. In the real world it's likely that new products are constantly introduced in the MM&A Supermarket, so our choice of the 1000 products doesn't have to be based on data that contain all products."
   ]
  },
  {
   "cell_type": "code",
   "execution_count": 9,
   "metadata": {
    "colab": {
     "base_uri": "https://localhost:8080/"
    },
    "id": "l8pekA3EAlef",
    "outputId": "8678a28c-17ed-4767-b910-e6417173073b"
   },
   "outputs": [
    {
     "data": {
      "text/plain": [
       "order_id         78249\n",
       "product_id       33171\n",
       "product_name     33171\n",
       "aisle_id           134\n",
       "aisle              134\n",
       "department_id       21\n",
       "department          21\n",
       "dtype: int64"
      ]
     },
     "execution_count": 9,
     "metadata": {},
     "output_type": "execute_result"
    }
   ],
   "source": [
    "train.nunique()"
   ]
  },
  {
   "cell_type": "markdown",
   "metadata": {
    "id": "jOvSzQmWAsZ5"
   },
   "source": [
    "Next, I build a simple model to pick 1000 products. Indeed, the model is so simple that it just randomly pick 1000 products."
   ]
  },
  {
   "cell_type": "code",
   "execution_count": 10,
   "metadata": {
    "id": "adVozZqyDvgs"
   },
   "outputs": [],
   "source": [
    "# keep the 'aisle_id', 'department_id' columns for later use\n",
    "my_pick = train[['product_id', 'product_name', 'aisle_id', 'department_id']].drop_duplicates().sample(n=1000, random_state=2)"
   ]
  },
  {
   "cell_type": "code",
   "execution_count": 11,
   "metadata": {
    "colab": {
     "base_uri": "https://localhost:8080/",
     "height": 206
    },
    "id": "1lcxaP1FG4n2",
    "outputId": "7a9903d9-3b48-40af-d838-860c9ac17d1d"
   },
   "outputs": [
    {
     "data": {
      "text/html": [
       "<div>\n",
       "<style scoped>\n",
       "    .dataframe tbody tr th:only-of-type {\n",
       "        vertical-align: middle;\n",
       "    }\n",
       "\n",
       "    .dataframe tbody tr th {\n",
       "        vertical-align: top;\n",
       "    }\n",
       "\n",
       "    .dataframe thead th {\n",
       "        text-align: right;\n",
       "    }\n",
       "</style>\n",
       "<table border=\"1\" class=\"dataframe\">\n",
       "  <thead>\n",
       "    <tr style=\"text-align: right;\">\n",
       "      <th></th>\n",
       "      <th>product_id</th>\n",
       "      <th>product_name</th>\n",
       "      <th>aisle_id</th>\n",
       "      <th>department_id</th>\n",
       "    </tr>\n",
       "  </thead>\n",
       "  <tbody>\n",
       "    <tr>\n",
       "      <th>218611</th>\n",
       "      <td>16967</td>\n",
       "      <td>Organic 50/50 Spring Blend</td>\n",
       "      <td>123</td>\n",
       "      <td>4</td>\n",
       "    </tr>\n",
       "    <tr>\n",
       "      <th>121171</th>\n",
       "      <td>47771</td>\n",
       "      <td>100% Organic Coconut Water</td>\n",
       "      <td>98</td>\n",
       "      <td>7</td>\n",
       "    </tr>\n",
       "    <tr>\n",
       "      <th>314635</th>\n",
       "      <td>10947</td>\n",
       "      <td>No Sugar Added Tapioca Pudding</td>\n",
       "      <td>71</td>\n",
       "      <td>16</td>\n",
       "    </tr>\n",
       "    <tr>\n",
       "      <th>541290</th>\n",
       "      <td>6189</td>\n",
       "      <td>Meat Snacks Sriracha Beef Jerky</td>\n",
       "      <td>23</td>\n",
       "      <td>19</td>\n",
       "    </tr>\n",
       "    <tr>\n",
       "      <th>320169</th>\n",
       "      <td>15188</td>\n",
       "      <td>Grands Homestyle Honey Butter Buscuits</td>\n",
       "      <td>105</td>\n",
       "      <td>13</td>\n",
       "    </tr>\n",
       "  </tbody>\n",
       "</table>\n",
       "</div>"
      ],
      "text/plain": [
       "        product_id                            product_name  aisle_id  \\\n",
       "218611       16967              Organic 50/50 Spring Blend       123   \n",
       "121171       47771              100% Organic Coconut Water        98   \n",
       "314635       10947          No Sugar Added Tapioca Pudding        71   \n",
       "541290        6189         Meat Snacks Sriracha Beef Jerky        23   \n",
       "320169       15188  Grands Homestyle Honey Butter Buscuits       105   \n",
       "\n",
       "        department_id  \n",
       "218611              4  \n",
       "121171              7  \n",
       "314635             16  \n",
       "541290             19  \n",
       "320169             13  "
      ]
     },
     "execution_count": 11,
     "metadata": {},
     "output_type": "execute_result"
    }
   ],
   "source": [
    "my_pick.head()"
   ]
  },
  {
   "cell_type": "markdown",
   "metadata": {
    "id": "Wz8S6LQSE9AF"
   },
   "source": [
    "Let's check whether my pick satisifies the contraint that no more than 100 frozen products and 100 refrigerated products can be in the special aisle."
   ]
  },
  {
   "cell_type": "code",
   "execution_count": 12,
   "metadata": {
    "colab": {
     "base_uri": "https://localhost:8080/",
     "height": 707
    },
    "id": "jmWgrp29JHi6",
    "outputId": "b8b0220d-3037-4a0c-f3a2-df94e463d737"
   },
   "outputs": [
    {
     "data": {
      "text/html": [
       "<div>\n",
       "<style scoped>\n",
       "    .dataframe tbody tr th:only-of-type {\n",
       "        vertical-align: middle;\n",
       "    }\n",
       "\n",
       "    .dataframe tbody tr th {\n",
       "        vertical-align: top;\n",
       "    }\n",
       "\n",
       "    .dataframe thead th {\n",
       "        text-align: right;\n",
       "    }\n",
       "</style>\n",
       "<table border=\"1\" class=\"dataframe\">\n",
       "  <thead>\n",
       "    <tr style=\"text-align: right;\">\n",
       "      <th></th>\n",
       "      <th>department_id</th>\n",
       "      <th>department</th>\n",
       "    </tr>\n",
       "  </thead>\n",
       "  <tbody>\n",
       "    <tr>\n",
       "      <th>68</th>\n",
       "      <td>1</td>\n",
       "      <td>frozen</td>\n",
       "    </tr>\n",
       "    <tr>\n",
       "      <th>691</th>\n",
       "      <td>2</td>\n",
       "      <td>other</td>\n",
       "    </tr>\n",
       "    <tr>\n",
       "      <th>24</th>\n",
       "      <td>3</td>\n",
       "      <td>bakery</td>\n",
       "    </tr>\n",
       "    <tr>\n",
       "      <th>2</th>\n",
       "      <td>4</td>\n",
       "      <td>produce</td>\n",
       "    </tr>\n",
       "    <tr>\n",
       "      <th>120</th>\n",
       "      <td>5</td>\n",
       "      <td>alcohol</td>\n",
       "    </tr>\n",
       "    <tr>\n",
       "      <th>45</th>\n",
       "      <td>6</td>\n",
       "      <td>international</td>\n",
       "    </tr>\n",
       "    <tr>\n",
       "      <th>35</th>\n",
       "      <td>7</td>\n",
       "      <td>beverages</td>\n",
       "    </tr>\n",
       "    <tr>\n",
       "      <th>119</th>\n",
       "      <td>8</td>\n",
       "      <td>pets</td>\n",
       "    </tr>\n",
       "    <tr>\n",
       "      <th>48</th>\n",
       "      <td>9</td>\n",
       "      <td>dry goods pasta</td>\n",
       "    </tr>\n",
       "    <tr>\n",
       "      <th>154</th>\n",
       "      <td>10</td>\n",
       "      <td>bulk</td>\n",
       "    </tr>\n",
       "    <tr>\n",
       "      <th>26</th>\n",
       "      <td>11</td>\n",
       "      <td>personal care</td>\n",
       "    </tr>\n",
       "    <tr>\n",
       "      <th>23</th>\n",
       "      <td>12</td>\n",
       "      <td>meat seafood</td>\n",
       "    </tr>\n",
       "    <tr>\n",
       "      <th>10</th>\n",
       "      <td>13</td>\n",
       "      <td>pantry</td>\n",
       "    </tr>\n",
       "    <tr>\n",
       "      <th>28</th>\n",
       "      <td>14</td>\n",
       "      <td>breakfast</td>\n",
       "    </tr>\n",
       "    <tr>\n",
       "      <th>4</th>\n",
       "      <td>15</td>\n",
       "      <td>canned goods</td>\n",
       "    </tr>\n",
       "    <tr>\n",
       "      <th>0</th>\n",
       "      <td>16</td>\n",
       "      <td>dairy eggs</td>\n",
       "    </tr>\n",
       "    <tr>\n",
       "      <th>43</th>\n",
       "      <td>17</td>\n",
       "      <td>household</td>\n",
       "    </tr>\n",
       "    <tr>\n",
       "      <th>92</th>\n",
       "      <td>18</td>\n",
       "      <td>babies</td>\n",
       "    </tr>\n",
       "    <tr>\n",
       "      <th>27</th>\n",
       "      <td>19</td>\n",
       "      <td>snacks</td>\n",
       "    </tr>\n",
       "    <tr>\n",
       "      <th>40</th>\n",
       "      <td>20</td>\n",
       "      <td>deli</td>\n",
       "    </tr>\n",
       "    <tr>\n",
       "      <th>654</th>\n",
       "      <td>21</td>\n",
       "      <td>missing</td>\n",
       "    </tr>\n",
       "  </tbody>\n",
       "</table>\n",
       "</div>"
      ],
      "text/plain": [
       "     department_id       department\n",
       "68               1           frozen\n",
       "691              2            other\n",
       "24               3           bakery\n",
       "2                4          produce\n",
       "120              5          alcohol\n",
       "45               6    international\n",
       "35               7        beverages\n",
       "119              8             pets\n",
       "48               9  dry goods pasta\n",
       "154             10             bulk\n",
       "26              11    personal care\n",
       "23              12     meat seafood\n",
       "10              13           pantry\n",
       "28              14        breakfast\n",
       "4               15     canned goods\n",
       "0               16       dairy eggs\n",
       "43              17        household\n",
       "92              18           babies\n",
       "27              19           snacks\n",
       "40              20             deli\n",
       "654             21          missing"
      ]
     },
     "execution_count": 12,
     "metadata": {},
     "output_type": "execute_result"
    }
   ],
   "source": [
    "# list all department to identify frozen and refrigerated products\n",
    "mma_mart[['department_id', 'department']].drop_duplicates().sort_values(by='department_id')"
   ]
  },
  {
   "cell_type": "markdown",
   "metadata": {
    "id": "vQnKaXFDJyL_"
   },
   "source": [
    "After manually checking all the departments, I assume items from the \"frozen\" department are frozen products, and items from the \"meat seafood\" and \"dairy eggs\" departments are refrigerated products.\n",
    "\n",
    "**Note: I only use department names to identify frozen and refrigerated products. You should probably do a better job by using the aisle information (or even product names) too.**"
   ]
  },
  {
   "cell_type": "code",
   "execution_count": 13,
   "metadata": {
    "colab": {
     "base_uri": "https://localhost:8080/"
    },
    "id": "uVli9yOI2Yb_",
    "outputId": "a408c564-c39b-43a1-9327-beb6eb363f47"
   },
   "outputs": [
    {
     "data": {
      "text/plain": [
       "90"
      ]
     },
     "execution_count": 13,
     "metadata": {},
     "output_type": "execute_result"
    }
   ],
   "source": [
    "# count frozen products\n",
    "my_pick[my_pick['department_id'] == 1]['department_id'].count()"
   ]
  },
  {
   "cell_type": "code",
   "execution_count": 14,
   "metadata": {
    "colab": {
     "base_uri": "https://localhost:8080/"
    },
    "id": "KNjmqXMQG2W8",
    "outputId": "f1cf4a64-b7ac-4805-8031-6d6ddfa50317"
   },
   "outputs": [
    {
     "data": {
      "text/plain": [
       "99"
      ]
     },
     "execution_count": 14,
     "metadata": {},
     "output_type": "execute_result"
    }
   ],
   "source": [
    "# refrigerated products\n",
    "my_pick[(my_pick['department_id'] == 12) | (my_pick['department_id'] == 16)]['department_id'].count()"
   ]
  },
  {
   "cell_type": "markdown",
   "metadata": {
    "id": "Nfd4fYrxKrh6"
   },
   "source": [
    "Our pick satisfies the constraint."
   ]
  },
  {
   "cell_type": "markdown",
   "metadata": {
    "id": "Y2VfZYMuK12_"
   },
   "source": [
    "# 3 Calculate the metrics"
   ]
  },
  {
   "cell_type": "markdown",
   "metadata": {
    "id": "UqA2RQHePt8a"
   },
   "source": [
    "Let's calculate the two metrics to check our model performance.\n",
    "\n",
    "(1) the number of orders that utilize the in-aisle items (and compared it with the total number of orders)\n",
    "\n",
    "(2) the average number of items in each order that utilize in-aisle items (and compare it with the average number of items in each order)\n",
    "\n",
    "We will use the **test data**, and calcuate the metrics with and without accounting for the substitutes."
   ]
  },
  {
   "cell_type": "markdown",
   "metadata": {
    "id": "EcN3wd80bQcO"
   },
   "source": [
    "## 3.1 Calculate the metrics without accounting for the substitutes"
   ]
  },
  {
   "cell_type": "code",
   "execution_count": 15,
   "metadata": {
    "colab": {
     "base_uri": "https://localhost:8080/"
    },
    "id": "il4uTWmPTsDJ",
    "outputId": "94f36237-73a1-4a7a-bd87-cc73e066732b"
   },
   "outputs": [
    {
     "name": "stdout",
     "output_type": "stream",
     "text": [
      "Total number of orders: 19584\n"
     ]
    }
   ],
   "source": [
    "# calculate total unique orders in the test data\n",
    "tot_order = test['order_id'].nunique()\n",
    "print(f\"Total number of orders: {tot_order}\")"
   ]
  },
  {
   "cell_type": "code",
   "execution_count": 16,
   "metadata": {
    "colab": {
     "base_uri": "https://localhost:8080/"
    },
    "id": "rbJFZKFwbui8",
    "outputId": "e2f86a37-4f01-46f7-db3d-ad890901e91e"
   },
   "outputs": [
    {
     "name": "stdout",
     "output_type": "stream",
     "text": [
      "Average number of items in each order: 10.136540032679738\n"
     ]
    }
   ],
   "source": [
    "# calculate the average number of items in each order\n",
    "avg_item = len(test) / tot_order\n",
    "print(f\"Average number of items in each order: {avg_item}\")"
   ]
  },
  {
   "cell_type": "code",
   "execution_count": 17,
   "metadata": {
    "colab": {
     "base_uri": "https://localhost:8080/",
     "height": 206
    },
    "id": "zKspjhmePte5",
    "outputId": "797b105f-e075-4c57-d1d5-185a6a62939a"
   },
   "outputs": [
    {
     "data": {
      "text/html": [
       "<div>\n",
       "<style scoped>\n",
       "    .dataframe tbody tr th:only-of-type {\n",
       "        vertical-align: middle;\n",
       "    }\n",
       "\n",
       "    .dataframe tbody tr th {\n",
       "        vertical-align: top;\n",
       "    }\n",
       "\n",
       "    .dataframe thead th {\n",
       "        text-align: right;\n",
       "    }\n",
       "</style>\n",
       "<table border=\"1\" class=\"dataframe\">\n",
       "  <thead>\n",
       "    <tr style=\"text-align: right;\">\n",
       "      <th></th>\n",
       "      <th>order_id</th>\n",
       "      <th>num_prod_matching</th>\n",
       "    </tr>\n",
       "  </thead>\n",
       "  <tbody>\n",
       "    <tr>\n",
       "      <th>0</th>\n",
       "      <td>80001</td>\n",
       "      <td>0</td>\n",
       "    </tr>\n",
       "    <tr>\n",
       "      <th>1</th>\n",
       "      <td>80002</td>\n",
       "      <td>0</td>\n",
       "    </tr>\n",
       "    <tr>\n",
       "      <th>2</th>\n",
       "      <td>80003</td>\n",
       "      <td>0</td>\n",
       "    </tr>\n",
       "    <tr>\n",
       "      <th>3</th>\n",
       "      <td>80004</td>\n",
       "      <td>1</td>\n",
       "    </tr>\n",
       "    <tr>\n",
       "      <th>4</th>\n",
       "      <td>80005</td>\n",
       "      <td>0</td>\n",
       "    </tr>\n",
       "  </tbody>\n",
       "</table>\n",
       "</div>"
      ],
      "text/plain": [
       "   order_id  num_prod_matching\n",
       "0     80001                  0\n",
       "1     80002                  0\n",
       "2     80003                  0\n",
       "3     80004                  1\n",
       "4     80005                  0"
      ]
     },
     "execution_count": 17,
     "metadata": {},
     "output_type": "execute_result"
    }
   ],
   "source": [
    "# join the test data with my pick on 'product_id'\n",
    "test_my_pick = test.merge(my_pick, on='product_id', how='left')\n",
    "\n",
    "# group by 'order_id' and count the non-null values of 'product_name_y' column\n",
    "metrics_tmp = test_my_pick[['order_id', 'product_name_y']].groupby('order_id').count().reset_index().rename(columns={'product_name_y': \"num_prod_matching\"})\n",
    "metrics_tmp.head()"
   ]
  },
  {
   "cell_type": "code",
   "execution_count": 18,
   "metadata": {
    "colab": {
     "base_uri": "https://localhost:8080/"
    },
    "id": "7jGWzzEKRNPR",
    "outputId": "1271207e-fb6a-4b60-8740-2afc269eeb34"
   },
   "outputs": [
    {
     "name": "stdout",
     "output_type": "stream",
     "text": [
      "Out of 19584 orders, 7510 of them utilize the in-aisle items. That's about 38.35%.\n"
     ]
    }
   ],
   "source": [
    "# calculate metric 1\n",
    "# count orders with at least a match\n",
    "metric_1 = len(metrics_tmp[metrics_tmp['num_prod_matching']>0])\n",
    "print(f\"Out of {tot_order} orders, {metric_1} of them utilize the in-aisle items. That's about {metric_1/tot_order*100:.2f}%.\")"
   ]
  },
  {
   "cell_type": "code",
   "execution_count": 20,
   "metadata": {
    "colab": {
     "base_uri": "https://localhost:8080/"
    },
    "id": "Wor5qexoVvtJ",
    "outputId": "bd205c64-b0d0-4032-f6f2-a14c4db20341"
   },
   "outputs": [
    {
     "name": "stdout",
     "output_type": "stream",
     "text": [
      "On average there are 10.14 items in each order, and 0.53 of them utilize in-aisle items. That's about 5.21%\n"
     ]
    }
   ],
   "source": [
    "# calculate metric 2\n",
    "metric_2 = metrics_tmp['num_prod_matching'].sum() / len(metrics_tmp)\n",
    "print(f\"On average there are {avg_item:.2f} items in each order, and {metric_2:.2f} of them utilize in-aisle items. That's about {metric_2/avg_item*100:.2f}%\")\n"
   ]
  },
  {
   "cell_type": "markdown",
   "metadata": {
    "id": "A2hr5dw-xAOw"
   },
   "source": [
    "The resulting metrics don't seem to be too good."
   ]
  },
  {
   "cell_type": "markdown",
   "metadata": {
    "id": "Nuez4BwKbX-h"
   },
   "source": [
    "## 3.2 Calculate the metrics accounting for the substitutes"
   ]
  },
  {
   "cell_type": "markdown",
   "metadata": {
    "id": "dlZICXmgrbQn"
   },
   "source": [
    "I assume products/items from the same department and same aisle are substitutes.\n",
    "\n",
    "**Note: This is an oversimplified assumption. You should do better here.**"
   ]
  },
  {
   "cell_type": "code",
   "execution_count": 21,
   "metadata": {
    "colab": {
     "base_uri": "https://localhost:8080/",
     "height": 206
    },
    "id": "Sj5Ayt7HsjBP",
    "outputId": "7adc6937-6717-4f76-d184-5faf04543fe2"
   },
   "outputs": [
    {
     "data": {
      "text/html": [
       "<div>\n",
       "<style scoped>\n",
       "    .dataframe tbody tr th:only-of-type {\n",
       "        vertical-align: middle;\n",
       "    }\n",
       "\n",
       "    .dataframe tbody tr th {\n",
       "        vertical-align: top;\n",
       "    }\n",
       "\n",
       "    .dataframe thead th {\n",
       "        text-align: right;\n",
       "    }\n",
       "</style>\n",
       "<table border=\"1\" class=\"dataframe\">\n",
       "  <thead>\n",
       "    <tr style=\"text-align: right;\">\n",
       "      <th></th>\n",
       "      <th>aisle_id</th>\n",
       "      <th>department_id</th>\n",
       "      <th>special_aisle</th>\n",
       "    </tr>\n",
       "  </thead>\n",
       "  <tbody>\n",
       "    <tr>\n",
       "      <th>218611</th>\n",
       "      <td>123</td>\n",
       "      <td>4</td>\n",
       "      <td>True</td>\n",
       "    </tr>\n",
       "    <tr>\n",
       "      <th>121171</th>\n",
       "      <td>98</td>\n",
       "      <td>7</td>\n",
       "      <td>True</td>\n",
       "    </tr>\n",
       "    <tr>\n",
       "      <th>314635</th>\n",
       "      <td>71</td>\n",
       "      <td>16</td>\n",
       "      <td>True</td>\n",
       "    </tr>\n",
       "    <tr>\n",
       "      <th>541290</th>\n",
       "      <td>23</td>\n",
       "      <td>19</td>\n",
       "      <td>True</td>\n",
       "    </tr>\n",
       "    <tr>\n",
       "      <th>320169</th>\n",
       "      <td>105</td>\n",
       "      <td>13</td>\n",
       "      <td>True</td>\n",
       "    </tr>\n",
       "  </tbody>\n",
       "</table>\n",
       "</div>"
      ],
      "text/plain": [
       "        aisle_id  department_id  special_aisle\n",
       "218611       123              4           True\n",
       "121171        98              7           True\n",
       "314635        71             16           True\n",
       "541290        23             19           True\n",
       "320169       105             13           True"
      ]
     },
     "execution_count": 21,
     "metadata": {},
     "output_type": "execute_result"
    }
   ],
   "source": [
    "# find unique 'aisle_id' and 'department_id' in my_pick\n",
    "my_aisle_dept = my_pick[['aisle_id', 'department_id']].drop_duplicates()\n",
    "\n",
    "# add a new column for identifying non-matching rows later\n",
    "my_aisle_dept[\"special_aisle\"] = True\n",
    "my_aisle_dept.head()"
   ]
  },
  {
   "cell_type": "code",
   "execution_count": 22,
   "metadata": {
    "id": "R0SmuyVaKv54"
   },
   "outputs": [],
   "source": [
    "# join the test data with my_aisle_dept on 'aisle_id' and 'department_id'\n",
    "test_my_aisle_dept = test.merge(my_aisle_dept, on=['aisle_id', 'department_id'], how='left')"
   ]
  },
  {
   "cell_type": "code",
   "execution_count": 23,
   "metadata": {
    "colab": {
     "base_uri": "https://localhost:8080/",
     "height": 206
    },
    "id": "e6FVH_X2tHuV",
    "outputId": "5ecf0026-5a95-4c43-c6c0-1711d1c1ea9b"
   },
   "outputs": [
    {
     "data": {
      "text/html": [
       "<div>\n",
       "<style scoped>\n",
       "    .dataframe tbody tr th:only-of-type {\n",
       "        vertical-align: middle;\n",
       "    }\n",
       "\n",
       "    .dataframe tbody tr th {\n",
       "        vertical-align: top;\n",
       "    }\n",
       "\n",
       "    .dataframe thead th {\n",
       "        text-align: right;\n",
       "    }\n",
       "</style>\n",
       "<table border=\"1\" class=\"dataframe\">\n",
       "  <thead>\n",
       "    <tr style=\"text-align: right;\">\n",
       "      <th></th>\n",
       "      <th>order_id</th>\n",
       "      <th>num_prod_matching</th>\n",
       "    </tr>\n",
       "  </thead>\n",
       "  <tbody>\n",
       "    <tr>\n",
       "      <th>0</th>\n",
       "      <td>80001</td>\n",
       "      <td>7</td>\n",
       "    </tr>\n",
       "    <tr>\n",
       "      <th>1</th>\n",
       "      <td>80002</td>\n",
       "      <td>8</td>\n",
       "    </tr>\n",
       "    <tr>\n",
       "      <th>2</th>\n",
       "      <td>80003</td>\n",
       "      <td>14</td>\n",
       "    </tr>\n",
       "    <tr>\n",
       "      <th>3</th>\n",
       "      <td>80004</td>\n",
       "      <td>5</td>\n",
       "    </tr>\n",
       "    <tr>\n",
       "      <th>4</th>\n",
       "      <td>80005</td>\n",
       "      <td>4</td>\n",
       "    </tr>\n",
       "  </tbody>\n",
       "</table>\n",
       "</div>"
      ],
      "text/plain": [
       "   order_id  num_prod_matching\n",
       "0     80001                  7\n",
       "1     80002                  8\n",
       "2     80003                 14\n",
       "3     80004                  5\n",
       "4     80005                  4"
      ]
     },
     "execution_count": 23,
     "metadata": {},
     "output_type": "execute_result"
    }
   ],
   "source": [
    "# group by 'order_id' and count the non-null values of 'product_name_y' column\n",
    "metrics_sub_tmp = test_my_aisle_dept[['order_id', 'special_aisle']].groupby('order_id').count().reset_index().rename(columns={'special_aisle': \"num_prod_matching\"})\n",
    "metrics_sub_tmp.head()"
   ]
  },
  {
   "cell_type": "code",
   "execution_count": 24,
   "metadata": {
    "colab": {
     "base_uri": "https://localhost:8080/"
    },
    "id": "OsNJ_9Ygtj9E",
    "outputId": "f1215f88-a7e6-4a80-8e8e-0c4fce9a61e3"
   },
   "outputs": [
    {
     "name": "stdout",
     "output_type": "stream",
     "text": [
      "Out of 19584 orders, 19572 of them utilize the in-aisle items. That's about 99.94%.\n"
     ]
    }
   ],
   "source": [
    "# calculate metric 1\n",
    "# count orders with at least a match\n",
    "metric_sub_1 = len(metrics_sub_tmp[metrics_sub_tmp['num_prod_matching']>0])\n",
    "print(f\"Out of {tot_order} orders, {metric_sub_1} of them utilize the in-aisle items. That's about {metric_sub_1/tot_order*100:.2f}%.\")"
   ]
  },
  {
   "cell_type": "code",
   "execution_count": 25,
   "metadata": {
    "colab": {
     "base_uri": "https://localhost:8080/"
    },
    "id": "GsewdHchwLLU",
    "outputId": "4ac35f71-e42f-4eb3-a296-40a654086961"
   },
   "outputs": [
    {
     "name": "stdout",
     "output_type": "stream",
     "text": [
      "On average there are 10.14 items in each order, and 9.95 of them utilize in-aisle items. That's about 98.18%\n"
     ]
    }
   ],
   "source": [
    "# calcualte metric 2\n",
    "metric_sub_2 = metrics_sub_tmp['num_prod_matching'].sum() / len(metrics_sub_tmp)\n",
    "print(f\"On average there are {avg_item:.2f} items in each order, and {metric_sub_2:.2f} of them utilize in-aisle items. That's about {metric_sub_2/avg_item*100:.2f}%\")"
   ]
  },
  {
   "cell_type": "markdown",
   "metadata": {
    "id": "pCjfRdU4xDsR"
   },
   "source": [
    "The resulting metrics look too good. Our assumption on substitutes is oversimplied and likely wrong."
   ]
  }
 ],
 "metadata": {
  "colab": {
   "provenance": []
  },
  "kernelspec": {
   "display_name": "Python 3 (ipykernel)",
   "language": "python",
   "name": "python3"
  },
  "language_info": {
   "codemirror_mode": {
    "name": "ipython",
    "version": 3
   },
   "file_extension": ".py",
   "mimetype": "text/x-python",
   "name": "python",
   "nbconvert_exporter": "python",
   "pygments_lexer": "ipython3",
   "version": "3.8.17"
  }
 },
 "nbformat": 4,
 "nbformat_minor": 4
}
