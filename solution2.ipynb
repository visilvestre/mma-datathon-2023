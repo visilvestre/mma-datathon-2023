{
 "cells": [
  {
   "cell_type": "code",
   "execution_count": 1,
   "metadata": {},
   "outputs": [
    {
     "data": {
      "text/plain": [
       "' \\n1- Read data into a dataframe (mma)\\n2- Separate data into train/test (80/20) (mma_train , mma_test)\\n3- Calculate frequency in train data | test data of each product over all orders (mma_train_freq | mma_test_freq)\\n4- Create a solution table with columns (ProductID|SubstituteID|PFrequency|DepartmentID|AisleID|Selected?) (solution_df)\\n5- Populate the solution table ProductID column with a {SELECT DISTINCT ProductID} over original data\\n6- Add information of product frequency on orders per ProductID to solution table (PFrequency), by joining with mma_train_freq\\n7- Add DepartmentID|AisleID to solution table by joining with main table\\n8- Create SubstituteIDs for each ProductID\\n    >> For each AisleID|DepartmentID group:\\n        1)Select all ProductIDs | ProductNames under Aisle|Department\\n        2)Do a similarity analysis, and try to cluster similar product names\\n        3)On each cluster, compare frequency of product in orders, and select the most frequent product as SubstituteID\\n            Left Join with frequency table, and compare\\n        4)For outliers (products that are not similar to any other product), copy ProductID as SubstituteID\\n        5)Append ProductIDs|SubstituteIDs to Substitute table\\n9- Add SubstituteIDs to solution table by joining with Substitute table\\n10- Prepare objective function as a method\\n11- Prepare constraints as a method\\n12- Configure optimization with Objective, Constraints and Solution Table\\n13- Run optimization\\n14- Export solution table as csv\\n15- Test solution table with test data\\n16- Calculate score against metrics\\n'"
      ]
     },
     "execution_count": 1,
     "metadata": {},
     "output_type": "execute_result"
    }
   ],
   "source": [
    "# This is the part 2 that will go from steps 10 until 13.\n",
    "\"\"\" \n",
    "1- Read data into a dataframe (mma)\n",
    "2- Separate data into train/test (80/20) (mma_train , mma_test)\n",
    "3- Calculate frequency in train data | test data of each product over all orders (mma_train_freq | mma_test_freq)\n",
    "4- Create a solution table with columns (ProductID|SubstituteID|PFrequency|DepartmentID|AisleID|Selected?) (solution_df)\n",
    "5- Populate the solution table ProductID column with a {SELECT DISTINCT ProductID} over original data\n",
    "6- Add information of product frequency on orders per ProductID to solution table (PFrequency), by joining with mma_train_freq\n",
    "7- Add DepartmentID|AisleID to solution table by joining with main table\n",
    "8- Create SubstituteIDs for each ProductID\n",
    "    >> For each AisleID|DepartmentID group:\n",
    "        1)Select all ProductIDs | ProductNames under Aisle|Department\n",
    "        2)Do a similarity analysis, and try to cluster similar product names\n",
    "        3)On each cluster, compare frequency of product in orders, and select the most frequent product as SubstituteID\n",
    "            Left Join with frequency table, and compare\n",
    "        4)For outliers (products that are not similar to any other product), copy ProductID as SubstituteID\n",
    "        5)Append ProductIDs|SubstituteIDs to Substitute table\n",
    "9- Add SubstituteIDs to solution table by joining with Substitute table\n",
    "10- Analyze products per frequency in orders to select those with highest probability to select, considering constraints\n",
    "11- Repeat the analysis but accounting for substitute products, selecting products based on potential substitute presence\n",
    "12- Test solution table with test data\n",
    "13- Calculate score against metrics\n",
    "\"\"\""
   ]
  },
  {
   "cell_type": "code",
   "execution_count": 2,
   "metadata": {},
   "outputs": [],
   "source": [
    "import pandas as pd\n",
    "import numpy as np\n",
    "import matplotlib.pyplot as plt\n",
    "%matplotlib inline\n",
    "import plotly.express as px\n",
    "import scipy as sp\n",
    "import sklearn as sk\n",
    "import seaborn as sns\n",
    "import re\n",
    "import string\n",
    "import math\n",
    "import random\n",
    "import itertools\n",
    "import time\n",
    "import pulp\n",
    "import os\n",
    "import warnings\n",
    "import string\n",
    "warnings.filterwarnings('ignore')\n"
   ]
  },
  {
   "cell_type": "code",
   "execution_count": 3,
   "metadata": {},
   "outputs": [],
   "source": [
    "### Read data from Part 1\n",
    "mma_test = pd.read_csv('data/processed/to_optimizer/mma_test.csv')\n",
    "mma_train = pd.read_csv('data/processed/to_optimizer/mma_train.csv')\n",
    "solution_df = pd.read_csv('data/processed/to_optimizer/solution_df.csv')"
   ]
  },
  {
   "cell_type": "code",
   "execution_count": 4,
   "metadata": {},
   "outputs": [],
   "source": [
    "selected = pd.read_csv('data/results/selections.csv')\n",
    "substitutes = pd.read_csv('data/results/substitutes.csv')\n",
    "selected_nosubstitute = pd.read_csv('data/results/selections_nosubstitute.csv')"
   ]
  },
  {
   "cell_type": "markdown",
   "metadata": {},
   "source": [
    "### 10- Prepare objective function as a method"
   ]
  },
  {
   "cell_type": "code",
   "execution_count": 5,
   "metadata": {},
   "outputs": [],
   "source": [
    "def metric1(mma_train, solution_df):\n",
    "    \"\"\" \n",
    "    Metric 1 : Number of orders that use in instabasket aisle items\n",
    "    \"\"\"\n",
    "    # Select all orders that use in-aisle items\n",
    "    \n",
    "    \n",
    "    return m1\n",
    "\n",
    "def metric2(mma_train, solution_df):\n",
    "    \"\"\" \n",
    "    Metric 1 : Number of orders that use in instabasket aisle items\n",
    "    \"\"\"\n",
    "    # Select all orders that use in-aisle items\n",
    "    \n",
    "    \n",
    "    return m2"
   ]
  },
  {
   "cell_type": "markdown",
   "metadata": {},
   "source": [
    "### 11- Prepare constraints as methods"
   ]
  },
  {
   "cell_type": "code",
   "execution_count": 6,
   "metadata": {},
   "outputs": [],
   "source": [
    "def freezer_constraint(df):\n",
    "    \"\"\"\n",
    "    The freezer constraint limits the amount of freezer products on the resulting list to a maximum of 100\n",
    "    \"\"\"\n",
    "\n",
    "    if df.loc[df['department'] == 'frozen']['Selected?'].sum() <= 100:\n",
    "        return True\n",
    "    else:\n",
    "        return False\n",
    "    \n",
    "def refrigerator_constraint(df):\n",
    "    \"\"\"\n",
    "    The refrigerator constraint limits the amount of refrigerated products on the resulting list to a maximum of 100\n",
    "    \"\"\"\n",
    "    if df.loc[(df['department'] == 'meat seafood' ) | (df['department'] == 'dairy eggs')]['Selected?'].sum() <= 100:\n",
    "        return True\n",
    "    else:\n",
    "        return False\n",
    "\n",
    "def selections_constraint(df):\n",
    "    \"\"\"\n",
    "    The selections constraint limits the amount of selections resulting list to a maximum of 1000\n",
    "    \"\"\"\n",
    "    if df['Selected?'].sum() <= 1000:\n",
    "        return True\n",
    "    else:\n",
    "        return False"
   ]
  },
  {
   "cell_type": "code",
   "execution_count": 7,
   "metadata": {},
   "outputs": [
    {
     "data": {
      "text/html": [
       "<div>\n",
       "<style scoped>\n",
       "    .dataframe tbody tr th:only-of-type {\n",
       "        vertical-align: middle;\n",
       "    }\n",
       "\n",
       "    .dataframe tbody tr th {\n",
       "        vertical-align: top;\n",
       "    }\n",
       "\n",
       "    .dataframe thead th {\n",
       "        text-align: right;\n",
       "    }\n",
       "</style>\n",
       "<table border=\"1\" class=\"dataframe\">\n",
       "  <thead>\n",
       "    <tr style=\"text-align: right;\">\n",
       "      <th></th>\n",
       "      <th>product_id</th>\n",
       "      <th>department_name</th>\n",
       "      <th>product_name</th>\n",
       "    </tr>\n",
       "  </thead>\n",
       "  <tbody>\n",
       "    <tr>\n",
       "      <th>0</th>\n",
       "      <td>27845</td>\n",
       "      <td>dairy eggs</td>\n",
       "      <td>Organic Whole Milk</td>\n",
       "    </tr>\n",
       "    <tr>\n",
       "      <th>1</th>\n",
       "      <td>33754</td>\n",
       "      <td>dairy eggs</td>\n",
       "      <td>Total 2% with Strawberry Lowfat Greek Strained...</td>\n",
       "    </tr>\n",
       "    <tr>\n",
       "      <th>2</th>\n",
       "      <td>49235</td>\n",
       "      <td>dairy eggs</td>\n",
       "      <td>Organic Half &amp; Half</td>\n",
       "    </tr>\n",
       "    <tr>\n",
       "      <th>3</th>\n",
       "      <td>5785</td>\n",
       "      <td>dairy eggs</td>\n",
       "      <td>Organic Reduced Fat 2% Milk</td>\n",
       "    </tr>\n",
       "    <tr>\n",
       "      <th>4</th>\n",
       "      <td>35951</td>\n",
       "      <td>dairy eggs</td>\n",
       "      <td>Organic Unsweetened Almond Milk</td>\n",
       "    </tr>\n",
       "    <tr>\n",
       "      <th>...</th>\n",
       "      <td>...</td>\n",
       "      <td>...</td>\n",
       "      <td>...</td>\n",
       "    </tr>\n",
       "    <tr>\n",
       "      <th>995</th>\n",
       "      <td>23094</td>\n",
       "      <td>canned goods</td>\n",
       "      <td>Organic Lentil Soup</td>\n",
       "    </tr>\n",
       "    <tr>\n",
       "      <th>996</th>\n",
       "      <td>12107</td>\n",
       "      <td>deli</td>\n",
       "      <td>Peppered Turkey Breast</td>\n",
       "    </tr>\n",
       "    <tr>\n",
       "      <th>997</th>\n",
       "      <td>39468</td>\n",
       "      <td>babies</td>\n",
       "      <td>Apples, Kale &amp; Avocados Organic Baby Food</td>\n",
       "    </tr>\n",
       "    <tr>\n",
       "      <th>998</th>\n",
       "      <td>38662</td>\n",
       "      <td>other</td>\n",
       "      <td>Roasted Almond Butter</td>\n",
       "    </tr>\n",
       "    <tr>\n",
       "      <th>999</th>\n",
       "      <td>25170</td>\n",
       "      <td>international</td>\n",
       "      <td>Soy Sauce</td>\n",
       "    </tr>\n",
       "  </tbody>\n",
       "</table>\n",
       "<p>1000 rows × 3 columns</p>\n",
       "</div>"
      ],
      "text/plain": [
       "     product_id department_name  \\\n",
       "0         27845      dairy eggs   \n",
       "1         33754      dairy eggs   \n",
       "2         49235      dairy eggs   \n",
       "3          5785      dairy eggs   \n",
       "4         35951      dairy eggs   \n",
       "..          ...             ...   \n",
       "995       23094    canned goods   \n",
       "996       12107            deli   \n",
       "997       39468          babies   \n",
       "998       38662           other   \n",
       "999       25170   international   \n",
       "\n",
       "                                          product_name  \n",
       "0                                   Organic Whole Milk  \n",
       "1    Total 2% with Strawberry Lowfat Greek Strained...  \n",
       "2                                  Organic Half & Half  \n",
       "3                          Organic Reduced Fat 2% Milk  \n",
       "4                      Organic Unsweetened Almond Milk  \n",
       "..                                                 ...  \n",
       "995                                Organic Lentil Soup  \n",
       "996                             Peppered Turkey Breast  \n",
       "997          Apples, Kale & Avocados Organic Baby Food  \n",
       "998                              Roasted Almond Butter  \n",
       "999                                          Soy Sauce  \n",
       "\n",
       "[1000 rows x 3 columns]"
      ]
     },
     "execution_count": 7,
     "metadata": {},
     "output_type": "execute_result"
    }
   ],
   "source": [
    "selected"
   ]
  },
  {
   "cell_type": "markdown",
   "metadata": {},
   "source": [
    "### 15- Test solution table with test data"
   ]
  },
  {
   "cell_type": "code",
   "execution_count": 8,
   "metadata": {},
   "outputs": [],
   "source": [
    "### METHODS FROM MMA_MART_TEMPLATE for testing ###\n",
    "\n",
    "# Methods for testing the solution\n",
    "def tot_order(mma_test):\n",
    "    # calculate total unique orders in the test data\n",
    "    tot_order = mma_test['order_id'].nunique()\n",
    "    print(f\"Total number of orders: {tot_order}\")\n",
    "    return tot_order\n",
    "\n",
    "def avg_item(mma_test, tot_order):\n",
    "    # calculate the average number of items in each order\n",
    "    avg_item = len(mma_test) / tot_order\n",
    "    print(f\"Average number of items in each order: {avg_item}\")\n",
    "    return avg_item\n",
    "\n",
    "def test_my_pick(mma_test, df):\n",
    "    # join the test data with my pick on 'product_id'\n",
    "    test_my_pick = mma_test.merge(df, left_on='product_id', right_on='product_id', how='left')\n",
    "\n",
    "    return test_my_pick\n",
    "\n",
    "def metrics_tmp(test_my_pick):\n",
    "    # group by 'order_id' and count the non-null values of 'product_name_y' column\n",
    "    metrics_tmp = test_my_pick[['order_id', 'product_name_y']].groupby('order_id').count().reset_index().rename(columns={'product_name_y': \"num_prod_matching\"})\n",
    "    \n",
    "    return metrics_tmp\n",
    "\n",
    "def metric1(metrics_tmp, tot_order):\n",
    "    # count orders with at least a match\n",
    "    metric_1 = len(metrics_tmp[metrics_tmp['num_prod_matching']>0])\n",
    "    print(f\"Out of {tot_order} orders, {metric_1} of them utilize the in-aisle items. That's about {metric_1/tot_order*100:.2f}%.\")\n",
    "    return metric1\n",
    "\n",
    "def metric2(metrics_tmp, avg_item):\n",
    "    # calculate metric 2\n",
    "    metric_2 = metrics_tmp['num_prod_matching'].sum() / len(metrics_tmp)\n",
    "    print(f\"On average there are {avg_item:.2f} items in each order, and {metric_2:.2f} of them utilize in-aisle items. That's about {metric_2/avg_item*100:.2f}%\")\n",
    "    return metric_2\n",
    "\n",
    "def test(mma_test, df):\n",
    "    tot_ord = tot_order(mma_test)\n",
    "    avg_it = avg_item(mma_test, tot_ord)\n",
    "    test_my_pic = test_my_pick(mma_test, df)\n",
    "    metrics_tp = metrics_tmp(test_my_pic)\n",
    "\n",
    "    metric_1 = metric1(metrics_tp, tot_ord)\n",
    "    metric_2 = metric2(metrics_tp, avg_it)\n",
    "\n",
    "    return metric_1, metric_2"
   ]
  },
  {
   "cell_type": "code",
   "execution_count": 9,
   "metadata": {},
   "outputs": [
    {
     "name": "stdout",
     "output_type": "stream",
     "text": [
      "Total number of orders: 19584\n",
      "Average number of items in each order: 10.136540032679738\n",
      "Out of 19584 orders, 17425 of them utilize the in-aisle items. That's about 88.98%.\n",
      "On average there are 10.14 items in each order, and 4.13 of them utilize in-aisle items. That's about 40.77%\n"
     ]
    }
   ],
   "source": [
    "metric_1, metric_2 = test(mma_test, df = selected)"
   ]
  },
  {
   "cell_type": "code",
   "execution_count": 10,
   "metadata": {},
   "outputs": [
    {
     "name": "stdout",
     "output_type": "stream",
     "text": [
      "Total number of orders: 19584\n",
      "Average number of items in each order: 10.136540032679738\n",
      "Out of 19584 orders, 18058 of them utilize the in-aisle items. That's about 92.21%.\n",
      "On average there are 10.14 items in each order, and 5.31 of them utilize in-aisle items. That's about 52.43%\n"
     ]
    }
   ],
   "source": [
    "metric_3, metric_4 = test(mma_test, df = selected_nosubstitute)"
   ]
  },
  {
   "cell_type": "markdown",
   "metadata": {},
   "source": [
    "### Accounting for Substitutes"
   ]
  },
  {
   "cell_type": "code",
   "execution_count": 11,
   "metadata": {},
   "outputs": [],
   "source": [
    "### METHODS FROM MMA_MART_TEMPLATE for testing accounting for Substitutes ###\n",
    "\n",
    "# Method to account for substitutes, we will consider the product_id in mma_test to be the substituted now.\n",
    "def substitute_ids(mma_test, substitutes):\n",
    "    mma_test_sub = mma_test.merge(substitutes, left_on='product_id', right_on='product_id', how='left')\n",
    "    mma_test_sub.rename(columns={'product_id':'product_id_legacy'}, inplace=True)\n",
    "    mma_test_sub.rename(columns={'product_id2':'product_id'}, inplace=True)\n",
    "    mma_test_sub.head()\n",
    "    \n",
    "    return mma_test_sub"
   ]
  },
  {
   "cell_type": "code",
   "execution_count": 12,
   "metadata": {},
   "outputs": [
    {
     "name": "stdout",
     "output_type": "stream",
     "text": [
      "Total number of orders: 19584\n",
      "Average number of items in each order: 10.136540032679738\n",
      "Out of 19584 orders, 19136 of them utilize the in-aisle items. That's about 97.71%.\n",
      "On average there are 10.14 items in each order, and 7.63 of them utilize in-aisle items. That's about 75.23%\n"
     ]
    }
   ],
   "source": [
    "mma_test_sub = substitute_ids(mma_test, substitutes)\n",
    "metric_5, metric_6 = test(mma_test_sub, df = selected)"
   ]
  }
 ],
 "metadata": {
  "kernelspec": {
   "display_name": "mma",
   "language": "python",
   "name": "python3"
  },
  "language_info": {
   "codemirror_mode": {
    "name": "ipython",
    "version": 3
   },
   "file_extension": ".py",
   "mimetype": "text/x-python",
   "name": "python",
   "nbconvert_exporter": "python",
   "pygments_lexer": "ipython3",
   "version": "3.8.17"
  },
  "orig_nbformat": 4
 },
 "nbformat": 4,
 "nbformat_minor": 2
}
